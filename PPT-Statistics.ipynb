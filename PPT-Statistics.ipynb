{
 "cells": [
  {
   "cell_type": "markdown",
   "id": "834ac439",
   "metadata": {},
   "source": [
    "1. Scenario: A company wants to analyze the sales performance of its products in different regions. They have collected the following data:\n",
    "   Region A: [10, 15, 12, 8, 14]\n",
    "   Region B: [18, 20, 16, 22, 25]\n",
    "   Calculate the mean sales for each region.\n",
    "\n"
   ]
  },
  {
   "cell_type": "code",
   "execution_count": 1,
   "id": "b0ea6a3b",
   "metadata": {},
   "outputs": [
    {
     "name": "stdout",
     "output_type": "stream",
     "text": [
      "11.8\n",
      "20.2\n"
     ]
    }
   ],
   "source": [
    "# To calculate the mean sales for each region\n",
    "Region_A= [10, 15, 12, 8, 14] \n",
    "Region_B= [18, 20, 16, 22, 25]\n",
    "import numpy as np\n",
    "print(np.mean(Region_A))\n",
    "print(np.mean(Region_B))"
   ]
  },
  {
   "cell_type": "code",
   "execution_count": 2,
   "id": "c68b9d28",
   "metadata": {},
   "outputs": [],
   "source": [
    "# From the above calculation we can say that the mean sales of Region A is 11.8 and for Reagion B is 20.2"
   ]
  },
  {
   "cell_type": "markdown",
   "id": "2c23efc5",
   "metadata": {},
   "source": [
    "2. Scenario: A survey is conducted to measure customer satisfaction on a scale of 1 to 5. The data collected is as follows:\n",
    "   [4, 5, 2, 3, 5, 4, 3, 2, 4, 5]\n",
    "   Calculate the mode of the survey responses.\n"
   ]
  },
  {
   "cell_type": "code",
   "execution_count": 3,
   "id": "dab38035",
   "metadata": {},
   "outputs": [
    {
     "name": "stdout",
     "output_type": "stream",
     "text": [
      "4\n"
     ]
    }
   ],
   "source": [
    "Data = [4, 5, 2, 3, 5, 4, 3, 2, 4, 5]\n",
    "import statistics\n",
    "print(statistics.mode(Data))"
   ]
  },
  {
   "cell_type": "code",
   "execution_count": 4,
   "id": "644d2871",
   "metadata": {},
   "outputs": [],
   "source": [
    "# The mode of the given data is 4, as it appears the most out of all the responses."
   ]
  },
  {
   "cell_type": "markdown",
   "id": "4654426c",
   "metadata": {},
   "source": [
    "3. Scenario: A company wants to compare the salaries of two departments. The salary data for Department A and Department B are as follows:\n",
    "   Department A: [5000, 6000, 5500, 7000]\n",
    "   Department B: [4500, 5500, 5800, 6000, 5200]\n",
    "   Calculate the median salary for each department.\n"
   ]
  },
  {
   "cell_type": "code",
   "execution_count": 5,
   "id": "3809a85c",
   "metadata": {},
   "outputs": [
    {
     "name": "stdout",
     "output_type": "stream",
     "text": [
      "5750.0\n",
      "5500\n"
     ]
    }
   ],
   "source": [
    "Department_A= [5000, 6000, 5500, 7000]\n",
    "Department_B= [4500, 5500, 5800, 6000, 5200]\n",
    "import statistics\n",
    "print(statistics.median(Department_A))\n",
    "print(statistics.median(Department_B))\n"
   ]
  },
  {
   "cell_type": "code",
   "execution_count": 6,
   "id": "7ac8a8b8",
   "metadata": {},
   "outputs": [],
   "source": [
    "#the median salary for Department A is 5750 and for Department B is 5500."
   ]
  },
  {
   "cell_type": "markdown",
   "id": "c429c5df",
   "metadata": {},
   "source": [
    "4. Scenario: A data analyst wants to determine the variability in the daily stock prices of a company. The data collected is as follows:\n",
    "   [25.5, 24.8, 26.1, 25.3, 24.9]\n",
    "   Calculate the range of the stock prices.\n"
   ]
  },
  {
   "cell_type": "code",
   "execution_count": 7,
   "id": "7f84f1e4",
   "metadata": {},
   "outputs": [
    {
     "name": "stdout",
     "output_type": "stream",
     "text": [
      "The range of the stock prices: 1.3000000000000007\n"
     ]
    }
   ],
   "source": [
    "import numpy as np\n",
    "data =  [25.5, 24.8, 26.1, 25.3, 24.9] \n",
    "range = max(data) - min(data)\n",
    "print(\"The range of the stock prices:\", range)"
   ]
  },
  {
   "cell_type": "markdown",
   "id": "26b04ea4",
   "metadata": {},
   "source": [
    "5. Scenario: A study is conducted to compare the performance of two different teaching methods. The test scores of the students in each group are as follows:\n",
    "   Group A: [85, 90, 92, 88, 91]\n",
    "   Group B: [82, 88, 90, 86, 87]\n",
    "   Perform a t-test to determine if there is a significant difference in the mean scores between the two groups.\n"
   ]
  },
  {
   "cell_type": "code",
   "execution_count": 8,
   "id": "73c067e5",
   "metadata": {},
   "outputs": [
    {
     "data": {
      "text/plain": [
       "Ttest_indResult(statistic=1.4312528946642733, pvalue=0.19023970239078333)"
      ]
     },
     "execution_count": 8,
     "metadata": {},
     "output_type": "execute_result"
    }
   ],
   "source": [
    "import scipy.stats as stats\n",
    "Group_A= np.array([85, 90, 92, 88, 91])\n",
    "Group_B= np.array([82, 88, 90, 86, 87])\n",
    "\n",
    "#Two sample t-test has the following hypothesis:\n",
    "#H0 => µ1 = µ2 (population mean of  Group_A is equal to Group_B)\n",
    "#HA => µ1 ≠µ2 (population mean of Group_A is different from Group_B)\n",
    "\n",
    "#Performing the two sample t-test with equal variance\n",
    "stats.ttest_ind(a=Group_A, b=Group_B, equal_var=True)"
   ]
  },
  {
   "cell_type": "markdown",
   "id": "12b6dc83",
   "metadata": {},
   "source": [
    "#Here, since the p-value(0.19023970239078333) is greater than alpha=0.05 so we cannot reject the null hypothesis of the test.We do not have sufficient evidence to say that the mean scores between the two groups is different.\n"
   ]
  },
  {
   "cell_type": "markdown",
   "id": "c7f74097",
   "metadata": {},
   "source": [
    "6. Scenario: A company wants to analyze the relationship between advertising expenditure and sales. The data collected is as follows:\n",
    "   Advertising Expenditure (in thousands): [10, 15, 12, 8, 14]\n",
    "   Sales (in thousands): [25, 30, 28, 20, 26]\n",
    "   Calculate the correlation coefficient between advertising expenditure and sales.\n"
   ]
  },
  {
   "cell_type": "code",
   "execution_count": 9,
   "id": "552d7612",
   "metadata": {},
   "outputs": [
    {
     "name": "stdout",
     "output_type": "stream",
     "text": [
      "[[1.         0.87575114]\n",
      " [0.87575114 1.        ]]\n"
     ]
    }
   ],
   "source": [
    "import numpy as np\n",
    "import matplotlib.pyplot as plt\n",
    "Advertising_Expenditure =np.array([10, 15, 12, 8, 14])\n",
    "Sales = np.array([25, 30, 28, 20, 26])\n",
    "Corr_Coeff= np.corrcoef(Advertising_Expenditure,Sales)\n",
    "print(Corr_Coeff)\n"
   ]
  },
  {
   "cell_type": "markdown",
   "id": "961bf79e",
   "metadata": {},
   "source": [
    "#From the above matrix we can say that the the linear associations between advertising expenditure and sales are high and they are strongly positive correlated."
   ]
  },
  {
   "cell_type": "markdown",
   "id": "7aef1139",
   "metadata": {},
   "source": [
    "7. Scenario: A survey is conducted to measure the heights of a group of people. The data collected is as follows:\n",
    "   [160, 170, 165, 155, 175, 180, 170]\n",
    "   Calculate the standard deviation of the heights.\n"
   ]
  },
  {
   "cell_type": "code",
   "execution_count": 10,
   "id": "569e02d5",
   "metadata": {},
   "outputs": [],
   "source": [
    "data =  [160, 170, 165, 155, 175, 180, 170]\n",
    "def variance(data):\n",
    "    n=len(data)\n",
    "    #mean of the data\n",
    "    mean=sum(data)/n\n",
    "    #variance\n",
    "    deviation=[(x - mean)**2 for x in data]\n",
    "    variance=sum(deviation)/(n-1)\n",
    "    return variance"
   ]
  },
  {
   "cell_type": "code",
   "execution_count": 11,
   "id": "3b50bb33",
   "metadata": {},
   "outputs": [
    {
     "data": {
      "text/plain": [
       "73.80952380952381"
      ]
     },
     "execution_count": 11,
     "metadata": {},
     "output_type": "execute_result"
    }
   ],
   "source": [
    "variance(data)"
   ]
  },
  {
   "cell_type": "code",
   "execution_count": 12,
   "id": "a39304ff",
   "metadata": {},
   "outputs": [
    {
     "data": {
      "text/plain": [
       "7.953949089757174"
      ]
     },
     "execution_count": 12,
     "metadata": {},
     "output_type": "execute_result"
    }
   ],
   "source": [
    "import math\n",
    "import statistics\n",
    "math.sqrt(statistics.pvariance(data))"
   ]
  },
  {
   "cell_type": "code",
   "execution_count": 13,
   "id": "15de2721",
   "metadata": {},
   "outputs": [],
   "source": [
    "#the standard deviation of the heights is 7.953949089757174"
   ]
  },
  {
   "cell_type": "markdown",
   "id": "a0d9fe60",
   "metadata": {},
   "source": [
    "8. Scenario: A company wants to analyze the relationship between employee tenure and job satisfaction. The data collected is as follows:\n",
    "   Employee Tenure (in years): [2, 3, 5, 4, 6, 2, 4]\n",
    "   Job Satisfaction (on a scale of 1 to 10): [7, 8, 6, 9, 5, 7, 6]\n",
    "   Perform a linear regression analysis to predict job satisfaction based on employee tenure.\n",
    "\n"
   ]
  },
  {
   "cell_type": "code",
   "execution_count": 14,
   "id": "1668ec43",
   "metadata": {},
   "outputs": [],
   "source": [
    "import numpy as np\n",
    "import matplotlib.pyplot as plt\n",
    "from sklearn.linear_model import LinearRegression\n",
    "x = np.array([2, 3, 5, 4, 6, 2, 4])\n",
    "y = np.array([7, 8, 6, 9, 5, 7, 6])\n",
    "linreg = LinearRegression()\n",
    "x = x.reshape(-1,1)\n",
    "linreg.fit(x,y)\n",
    "y_pred = linreg.predict(x)"
   ]
  },
  {
   "cell_type": "code",
   "execution_count": 15,
   "id": "e21c4c12",
   "metadata": {},
   "outputs": [
    {
     "data": {
      "image/png": "[encoded data removed]",
      "text/plain": [
       "<Figure size 432x288 with 1 Axes>"
      ]
     },
     "metadata": {
      "needs_background": "light"
     },
     "output_type": "display_data"
    }
   ],
   "source": [
    "plt.scatter(x,y)\n",
    "plt.plot(x, y_pred, color ='green')\n",
    "plt.show()"
   ]
  },
  {
   "cell_type": "code",
   "execution_count": 16,
   "id": "2b951ecb",
   "metadata": {},
   "outputs": [
    {
     "name": "stdout",
     "output_type": "stream",
     "text": [
      "[-0.46808511]\n"
     ]
    }
   ],
   "source": [
    "print(linreg.coef_)"
   ]
  },
  {
   "cell_type": "code",
   "execution_count": 17,
   "id": "f7948a99",
   "metadata": {},
   "outputs": [
    {
     "name": "stdout",
     "output_type": "stream",
     "text": [
      "8.595744680851062\n"
     ]
    }
   ],
   "source": [
    "print(linreg.intercept_)"
   ]
  },
  {
   "cell_type": "markdown",
   "id": "c48a5bc2",
   "metadata": {},
   "source": [
    "The regression line used here is,\n",
    "Ycap=-0.46808511+8.595744680851062Xi\n",
    "\n",
    "The constant terms is the intercept of the regression line. From the above regression line  the intercept is -0.46808511. In regression we omits some independent variables that do not have much impact on the dependent variable, the intercept tells the average value of these omitted variables and noise present in model.\n",
    "The coefficient term tells the change in Y for a unit change in X  i.e if X rises by 1 unit then Y rises by 8.595744680851062 . "
   ]
  },
  {
   "cell_type": "markdown",
   "id": "e1fbaaa9",
   "metadata": {},
   "source": [
    "9. Scenario: A study is conducted to compare the effectiveness of two different medications. The recovery times of the patients in each group are as follows:\n",
    "   Medication A: [10, 12, 14, 11, 13]\n",
    "   Medication B: [15, 17, 16, 14, 18]\n",
    "   Perform an analysis of variance (ANOVA) to determine if there is a significant difference in the mean recovery times between the two medications.\n"
   ]
  },
  {
   "cell_type": "code",
   "execution_count": 18,
   "id": "945f0151",
   "metadata": {},
   "outputs": [
    {
     "data": {
      "text/plain": [
       "F_onewayResult(statistic=16.0, pvalue=0.003949772803445326)"
      ]
     },
     "execution_count": 18,
     "metadata": {},
     "output_type": "execute_result"
    }
   ],
   "source": [
    "#H0 (null hypothesis): μ1 = μ2\n",
    "#H1 (alternative hypothesis): μ1 != μ2\n",
    "\n",
    "from scipy.stats import f_oneway\n",
    "Medication_A= [10, 12, 14, 11, 13] \n",
    "Medication_B= [15, 17, 16, 14, 18] \n",
    "\n",
    "# Conduct the one-way ANOVA\n",
    "f_oneway(Medication_A,Medication_B)"
   ]
  },
  {
   "cell_type": "markdown",
   "id": "0ba38bd7",
   "metadata": {},
   "source": [
    "The F statistic and p-value turn out to be equal to 16.0 and 0.003949772803445326 respectively. Since the p-value is less than 0.05 hence we would reject the null hypothesis. This implies that we have sufficient proof to say that there exists a significant difference in the mean recovery times between the two medications.  "
   ]
  },
  {
   "cell_type": "markdown",
   "id": "68fccd87",
   "metadata": {},
   "source": [
    "10. Scenario: A company wants to analyze customer feedback ratings on a scale of 1 to 10. The data collected is\n",
    "\n",
    " as follows:\n",
    "    [8, 9, 7, 6, 8, 10, 9, 8, 7, 8]\n",
    "    Calculate the 75th percentile of the feedback ratings.\n"
   ]
  },
  {
   "cell_type": "code",
   "execution_count": 19,
   "id": "b9ac5aeb",
   "metadata": {},
   "outputs": [
    {
     "name": "stdout",
     "output_type": "stream",
     "text": [
      "the 75th percentile of the feedback ratings is 8.75\n"
     ]
    }
   ],
   "source": [
    "import numpy as np\n",
    "data = [8, 9, 7, 6, 8, 10, 9, 8, 7, 8]\n",
    "print(\"the 75th percentile of the feedback ratings is\", np.percentile(data, 75))"
   ]
  },
  {
   "cell_type": "markdown",
   "id": "18d73127",
   "metadata": {},
   "source": [
    "11. Scenario: A quality control department wants to test the weight consistency of a product. The weights of a sample of products are as follows:\n",
    "    [10.2, 9.8, 10.0, 10.5, 10.3, 10.1]\n",
    "    Perform a hypothesis test to determine if the mean weight differs significantly from 10 grams\n"
   ]
  },
  {
   "cell_type": "code",
   "execution_count": 20,
   "id": "cad57936",
   "metadata": {},
   "outputs": [
    {
     "name": "stdout",
     "output_type": "stream",
     "text": [
      "1.5126584522688367 0.19077595151110102\n"
     ]
    }
   ],
   "source": [
    "#null hypothesis: the mean weight differs significantly from 10 grams.\n",
    "#alternative hypothesis: the mean  weight does not differs significantly from 10 grams\n",
    "import scipy.stats as stats\n",
    "import pandas as pd\n",
    "data = [10.2, 9.8, 10.0, 10.5, 10.3, 10.1]\n",
    "# perform one sample t-test\n",
    "t_statistic, p_value = stats.ttest_1samp(a=data, popmean=10)\n",
    "print(t_statistic, p_value )"
   ]
  },
  {
   "cell_type": "markdown",
   "id": "327e8fbf",
   "metadata": {},
   "source": [
    "t_statistic is 1.5126584522688367\n",
    "\n",
    "p-value is 0.19077595151110102\n",
    "\n",
    "As the p_value for the given problem is more than 0.05 which is the alpha value, we accept the null hypothesis and the alternative hypothesis is rejected."
   ]
  },
  {
   "cell_type": "markdown",
   "id": "1d42f7b0",
   "metadata": {},
   "source": [
    "12. Scenario: A company wants to analyze the click-through rates of two different website designs. The number of clicks for each design is as follows:\n",
    "    Design A: [100, 120, 110, 90, 95]\n",
    "    Design B: [80, 85, 90, 95, 100]\n",
    "    Perform a chi-square test to determine if there is a significant difference in the click-through rates between the two designs.\n"
   ]
  },
  {
   "cell_type": "code",
   "execution_count": 21,
   "id": "30c26b1f",
   "metadata": {},
   "outputs": [
    {
     "name": "stdout",
     "output_type": "stream",
     "text": [
      "p value is 0.19103526314060293\n",
      "Independent (H0 holds true)\n"
     ]
    }
   ],
   "source": [
    "#The aim of the chi-square test is to conclude whether \n",
    "#there is a  significant difference in the click-through rates between the two designs.\n",
    "# We start by defining our null hypothesis(H0) \n",
    "#which states that there is no significant difference in the click-through rates between the two designs.\n",
    "#Alternate hypothsis(H1): It would state that there is significant difference.\n",
    "from scipy.stats import chi2_contingency\n",
    "\n",
    "Design_A= [100, 120, 110, 90, 95] \n",
    "Design_B= [80, 85, 90, 95, 100]\n",
    "# defining the table\n",
    "data = [Design_A, Design_B]\n",
    "stat, p, dof, expected = chi2_contingency(data)\n",
    "\n",
    "# interpret p-value\n",
    "alpha = 0.05\n",
    "print(\"p value is \" + str(p))\n",
    "if p <= alpha:\n",
    "    print('Dependent(reject H0)')\n",
    "else:\n",
    "    print('Independent (H0 holds true)')"
   ]
  },
  {
   "cell_type": "code",
   "execution_count": 22,
   "id": "6b0f5c67",
   "metadata": {},
   "outputs": [],
   "source": [
    "#From the above calculation, we have seen that p-value>alpha. Therefore, we accept H0, which shows that there is no significant difference in the click-through rates between the two designs. "
   ]
  },
  {
   "cell_type": "markdown",
   "id": "ad757679",
   "metadata": {},
   "source": [
    "13. Scenario: A survey is conducted to measure customer satisfaction with a product on a scale of 1 to 10. The data collected is as follows:\n",
    "    [7, 9, 6, 8, 10, 7, 8, 9, 7, 8]\n",
    "    Calculate the 95% confidence interval for the population mean satisfaction score.\n",
    "\n"
   ]
  },
  {
   "cell_type": "code",
   "execution_count": 23,
   "id": "7cad8128",
   "metadata": {},
   "outputs": [
    {
     "data": {
      "text/plain": [
       "(7.043561120599888, 8.756438879400113)"
      ]
     },
     "execution_count": 23,
     "metadata": {},
     "output_type": "execute_result"
    }
   ],
   "source": [
    "import numpy as np\n",
    "import scipy.stats as st\n",
    "\n",
    "data = [7, 9, 6, 8, 10, 7, 8, 9, 7, 8]\n",
    "\n",
    "# create 95% confidence interval for the population mean satisfaction score.\n",
    "st.t.interval(alpha=0.95, df=len(data)-1, loc=np.mean(data), scale=st.sem(data))\n"
   ]
  },
  {
   "cell_type": "code",
   "execution_count": 24,
   "id": "98d5697e",
   "metadata": {},
   "outputs": [],
   "source": [
    "# There is a 95% chances that the CI of [7.043561120599888, 8.756438879400113] contains the population mean satisfiction score."
   ]
  },
  {
   "cell_type": "markdown",
   "id": "d3326687",
   "metadata": {},
   "source": [
    "14. Scenario: A company wants to analyze the effect of temperature on product performance. The data collected is as follows:\n",
    "    Temperature (in degrees Celsius): [20, 22, 23, 19, 21]\n",
    "    Performance (on a scale of 1 to 10): [8, 7, 9, 6, 8]\n",
    "    Perform a simple linear regression to predict performance based on temperature.\n",
    "\n"
   ]
  },
  {
   "cell_type": "code",
   "execution_count": 25,
   "id": "c0c7927d",
   "metadata": {},
   "outputs": [],
   "source": [
    "import numpy as np\n",
    "import matplotlib.pyplot as plt\n",
    "from sklearn.linear_model import LinearRegression\n",
    "x = np.array([20, 22, 23, 19, 21])\n",
    "y = np.array( [8, 7, 9, 6, 8] )\n",
    "linreg = LinearRegression()\n",
    "x = x.reshape(-1,1)\n",
    "linreg.fit(x,y)\n",
    "y_pred = linreg.predict(x)"
   ]
  },
  {
   "cell_type": "code",
   "execution_count": 26,
   "id": "1fc35a32",
   "metadata": {},
   "outputs": [
    {
     "data": {
      "image/png": "[encoded data removed]",
      "text/plain": [
       "<Figure size 432x288 with 1 Axes>"
      ]
     },
     "metadata": {
      "needs_background": "light"
     },
     "output_type": "display_data"
    }
   ],
   "source": [
    "plt.scatter(x,y)\n",
    "plt.plot(x, y_pred, color ='green')\n",
    "plt.show()"
   ]
  },
  {
   "cell_type": "code",
   "execution_count": 27,
   "id": "d0364b6c",
   "metadata": {},
   "outputs": [
    {
     "name": "stdout",
     "output_type": "stream",
     "text": [
      "[0.5]\n",
      "-2.8999999999999986\n"
     ]
    }
   ],
   "source": [
    "print(linreg.coef_)\n",
    "print(linreg.intercept_)"
   ]
  },
  {
   "cell_type": "markdown",
   "id": "e20aade7",
   "metadata": {},
   "source": [
    "The regression line used here is, Ycap=0.5-2.8999999999999986*Xi"
   ]
  },
  {
   "cell_type": "markdown",
   "id": "db19bae8",
   "metadata": {},
   "source": [
    "15. Scenario: A study is conducted to compare the preferences of two groups of participants. The preferences are measured on a Likert scale from 1 to 5. The data collected is as follows:\n",
    "    Group A: [4, 3, 5, 2, 4]\n",
    "    Group B: [3, 2, 4, 3, 3]\n",
    "    Perform a Mann-Whitney U test to determine if there is a significant difference in the median preferences between the two groups.\n"
   ]
  },
  {
   "cell_type": "code",
   "execution_count": 28,
   "id": "9c8246c9",
   "metadata": {},
   "outputs": [
    {
     "name": "stdout",
     "output_type": "stream",
     "text": [
      "Statistics=17.00, p=0.38\n",
      "Do not Reject Null Hypothesis (No significant difference between two samples)\n"
     ]
    }
   ],
   "source": [
    "# to perform  a Mann-Whitney U test to determine if there is a significant difference in the median preferences between the two groups.\n",
    "Group_A= [4, 3, 5, 2, 4] \n",
    "Group_B= [3, 2, 4, 3, 3]\n",
    "# H0: There is no significant difference in the median preferences between the two groups.\n",
    "# H1: There is a significant difference in the median.\n",
    "# our level of significance is 0.05.\n",
    "from scipy.stats import mannwhitneyu\n",
    "# perform mann whitney test\n",
    "stat, p_value = mannwhitneyu(Group_A,Group_B)\n",
    "print('Statistics=%.2f, p=%.2f' % (stat, p_value))\n",
    "# Level of significance\n",
    "alpha = 0.05\n",
    "# conclusion\n",
    "if p_value < alpha:\n",
    "    print('Reject Null Hypothesis (Significant difference between two samples)')\n",
    "else:\n",
    "    print('Do not Reject Null Hypothesis (No significant difference between two samples)')"
   ]
  },
  {
   "cell_type": "markdown",
   "id": "d0c2e054",
   "metadata": {},
   "source": [
    "16. Scenario: A company wants to analyze the distribution of customer ages. The data collected is as follows:\n",
    "    [25, 30, 35, 40, 45, 50, 55, 60, 65, 70]\n",
    "    Calculate the interquartile range (IQR) of the ages\n"
   ]
  },
  {
   "cell_type": "code",
   "execution_count": 29,
   "id": "31740d4c",
   "metadata": {},
   "outputs": [
    {
     "name": "stdout",
     "output_type": "stream",
     "text": [
      "Q1,Q3: 36.25 58.75\n",
      "IQR : 22.5\n",
      "lower_fence,upper_fence: 2.5 92.5\n"
     ]
    }
   ],
   "source": [
    "#interquartile range (IQR) of the ages\n",
    "#steps\n",
    "#Sort the data\n",
    "#Calculate Q1 and Q3\n",
    "#IQR(Q3-Q1)\n",
    "#Find the lower Fence(Q1-1.5(IQR))\n",
    "#Find the Upper Fence(Q3+1.5(IQR))\n",
    "import numpy as np\n",
    "dataset= [25, 30, 35, 40, 45, 50, 55, 60, 65, 70] \n",
    "dataset= sorted(dataset)\n",
    "Q1,Q3=np.percentile(dataset,[25,75])\n",
    "print(\"Q1,Q3:\",Q1,Q3)\n",
    "IQR=Q3-Q1\n",
    "print(\"IQR :\", IQR)\n",
    "#Find the Lower Fence and Upper Fence\n",
    "lower_fence=Q1-1.5*(IQR)\n",
    "upper_fence=Q3+1.5*(IQR)\n",
    "print(\"lower_fence,upper_fence:\",lower_fence,upper_fence)"
   ]
  },
  {
   "cell_type": "code",
   "execution_count": 30,
   "id": "f975601a",
   "metadata": {},
   "outputs": [],
   "source": [
    "#the interquartile range (IQR) of the given ages is 22.5"
   ]
  },
  {
   "cell_type": "markdown",
   "id": "607ee32c",
   "metadata": {},
   "source": [
    "17. Scenario: A study is conducted to compare the performance of three different machine learning algorithms. The accuracy scores for each algorithm are as follows:\n",
    "    Algorithm A: [0.85, 0.80, 0.82, 0.87, 0.83]\n",
    "    Algorithm B: [0.78, 0.82, 0.84, 0.80, 0.79]\n",
    "    Algorithm C: [0.90, 0.88, 0.89, 0.86, 0.87]\n",
    "    Perform a Kruskal-Wallis test to determine if there is a significant difference in the median accuracy scores between the algorithms.\n"
   ]
  },
  {
   "cell_type": "code",
   "execution_count": 31,
   "id": "d5b0c76b",
   "metadata": {},
   "outputs": [
    {
     "name": "stdout",
     "output_type": "stream",
     "text": [
      "KruskalResult(statistic=9.696947935368053, pvalue=0.007840333026249539)\n"
     ]
    }
   ],
   "source": [
    "#Perform a Kruskal-Wallis test to determine if there is a significant difference in the median accuracy scores between the algorithms\n",
    "#The null hypothesis (H0): The median is the same for all the accuracy scores between the algorithms.\n",
    "#The alternative hypothesis: (Ha): The median is not equal.\n",
    "from scipy import stats\n",
    "Algorithm_A= [0.85, 0.80, 0.82, 0.87, 0.83] \n",
    "Algorithm_B= [0.78, 0.82, 0.84, 0.80, 0.79] \n",
    "Algorithm_C= [0.90, 0.88, 0.89, 0.86, 0.87] \n",
    "result = stats.kruskal(Algorithm_A,Algorithm_B,Algorithm_C)\n",
    "print(result)"
   ]
  },
  {
   "cell_type": "code",
   "execution_count": 32,
   "id": "8c4f2118",
   "metadata": {},
   "outputs": [],
   "source": [
    "# the test statistic comes out to be equal to 9.696947935368053 and the corresponding p-value is pvalue=0.007840333026249539.As the p-value is less than 0.05, we accept the the null hypothesis that here is a significant difference in the median accuracy scores between the algorithms.  "
   ]
  },
  {
   "cell_type": "markdown",
   "id": "6059642b",
   "metadata": {},
   "source": [
    "19. Scenario: A survey is conducted to measure the satisfaction levels of customers with a new product. The data collected is as follows:\n",
    "    [7, 8, 9, 6, 8, 7, 9, 7, 8, 7]\n",
    "    Calculate the standard error of the mean satisfaction score.\n"
   ]
  },
  {
   "cell_type": "code",
   "execution_count": 33,
   "id": "7162c074",
   "metadata": {},
   "outputs": [
    {
     "name": "stdout",
     "output_type": "stream",
     "text": [
      "the standard error of the mean satisfaction score is  0.30550504633038933\n"
     ]
    }
   ],
   "source": [
    "from scipy.stats import sem\n",
    "data = [7, 8, 9, 6, 8, 7, 9, 7, 8, 7]\n",
    "#calculate standard error of the mean \n",
    "print(\"the standard error of the mean satisfaction score is \", sem(data))"
   ]
  },
  {
   "cell_type": "markdown",
   "id": "5f51910e",
   "metadata": {},
   "source": [
    "20. Scenario: A company wants to analyze the relationship between advertising expenditure and sales. The data collected is as follows:\n",
    "    Advertising Expenditure (in thousands): [10, 15, 12, 8, 14]\n",
    "    Sales (in thousands): [25, 30, 28, 20, 26]\n",
    "    Perform a multiple regression analysis to predict sales based on advertising expenditure.\n"
   ]
  },
  {
   "cell_type": "code",
   "execution_count": null,
   "id": "579aa3bb",
   "metadata": {},
   "outputs": [],
   "source": []
  }
 ],
 "metadata": {
  "kernelspec": {
   "display_name": "Python 3 (ipykernel)",
   "language": "python",
   "name": "python3"
  },
  "language_info": {
   "codemirror_mode": {
    "name": "ipython",
    "version": 3
   },
   "file_extension": ".py",
   "mimetype": "text/x-python",
   "name": "python",
   "nbconvert_exporter": "python",
   "pygments_lexer": "ipython3",
   "version": "3.9.7"
  }
 },
 "nbformat": 4,
 "nbformat_minor": 5
}
