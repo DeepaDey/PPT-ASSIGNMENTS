{
 "cells": [
  {
   "cell_type": "markdown",
   "id": "04890256",
   "metadata": {},
   "source": [
    "Assignment  9"
   ]
  },
  {
   "cell_type": "markdown",
   "id": "f4cd4456",
   "metadata": {},
   "source": [
    "💡 **Question 2**\n",
    "\n",
    "Given a number n, find the sum of the first natural numbers.\n",
    "\n",
    "\n",
    "Example 1:**\n",
    "Input: n = 3\n",
    "Output: 6\n",
    "Example 2:**\n",
    "Input  : 5\n",
    "Output : 15\n",
    "\n"
   ]
  },
  {
   "cell_type": "code",
   "execution_count": 27,
   "id": "c69ea486",
   "metadata": {},
   "outputs": [
    {
     "name": "stdout",
     "output_type": "stream",
     "text": [
      "Sum of first 3 natural numbers: 6\n",
      "Sum of first 5 natural numbers: 15\n"
     ]
    }
   ],
   "source": [
    "# Returns sum of first n natural numbers\n",
    "\n",
    "def findSum(n):\n",
    "    sum = 0\n",
    "    x = 1\n",
    "    while x <= n:\n",
    "        sum = sum + x\n",
    "        x = x + 1\n",
    "    return sum\n",
    "\n",
    "# Driver code\n",
    "n = 3\n",
    "print(\"Sum of first\", n ,\"natural numbers:\", findSum(n))\n",
    "\n",
    "# Driver code\n",
    "n = 5\n",
    "print(\"Sum of first\", n ,\"natural numbers:\",findSum(n))"
   ]
  },
  {
   "cell_type": "markdown",
   "id": "637d54ed",
   "metadata": {},
   "source": [
    "\n",
    "💡 **Question 3**\n",
    "\n",
    "****Given a positive integer, N. Find the factorial of N. \n",
    "\n",
    "**Example 1:**\n",
    "\n",
    "Input: N = 5 \n",
    "\n",
    "Output: 120\n",
    "\n",
    "**Example 2:**\n",
    "\n",
    "Input: N = 4\n",
    "\n",
    "Output: 24\n",
    "\n"
   ]
  },
  {
   "cell_type": "code",
   "execution_count": 28,
   "id": "48bc8052",
   "metadata": {},
   "outputs": [
    {
     "name": "stdout",
     "output_type": "stream",
     "text": [
      "Factorial of 5 is 120\n",
      "Factorial of 4 is 24\n"
     ]
    }
   ],
   "source": [
    "# Function to find factorial of given number\n",
    "def factorial(n):\n",
    "    if n == 0:\n",
    "        return 1\n",
    "    return n * factorial(n-1)\n",
    "   \n",
    "#Driver Code\n",
    "n = 5\n",
    "print(\"Factorial of\", n, \"is\",factorial(n))\n",
    "\n",
    "n = 4\n",
    "print(\"Factorial of\", n, \"is\",factorial(n))\n",
    "   "
   ]
  },
  {
   "cell_type": "markdown",
   "id": "2245219c",
   "metadata": {},
   "source": [
    "\n",
    "💡 **Question 4**\n",
    "\n",
    "Given a number N and a power P, the task is to find the exponent of this number raised to the given power, i.e. N^P.\n",
    "\n",
    "**Example 1 :** \n",
    "\n",
    "Input: N = 5, P = 2\n",
    "\n",
    "Output: 25\n",
    "\n",
    "**Example 2 :**\n",
    "Input: N = 2, P = 5\n",
    "\n",
    "Output: 32\n",
    "\n"
   ]
  },
  {
   "cell_type": "code",
   "execution_count": 29,
   "id": "60ae77ae",
   "metadata": {},
   "outputs": [
    {
     "name": "stdout",
     "output_type": "stream",
     "text": [
      "25\n",
      "32\n"
     ]
    }
   ],
   "source": [
    "# Recursive function to find N^P.\n",
    "def power(N,P):\n",
    "    if P == 0:\n",
    "        return 1\n",
    " \n",
    "    # Recurrence relation\n",
    "    return (N*power(N, P-1))\n",
    " \n",
    "# Driver code\n",
    "N = 5\n",
    "P = 2\n",
    " \n",
    "print(power(N,P))\n",
    "\n",
    "# Driver code\n",
    "N = 2\n",
    "P = 5\n",
    " \n",
    "print(power(N,P))"
   ]
  },
  {
   "cell_type": "markdown",
   "id": "4d88a60b",
   "metadata": {},
   "source": [
    "\n",
    "💡 **Question 5**\n",
    "\n",
    "Given an array of integers **arr**, the task is to find maximum element of that array using recursion.\n",
    "\n",
    "**Example 1:**\n",
    "\n",
    "Input: arr = {1, 4, 3, -5, -4, 8, 6};\n",
    "Output: 8\n",
    "\n",
    "**Example 2:**\n",
    "\n",
    "Input: arr = {1, 4, 45, 6, 10, -8};\n",
    "Output: 45\n",
    "\n"
   ]
  },
  {
   "cell_type": "code",
   "execution_count": 30,
   "id": "0f87bb46",
   "metadata": {},
   "outputs": [
    {
     "name": "stdout",
     "output_type": "stream",
     "text": [
      " Maximum element of [1, 4, 3, -5, -4, 8, 6] is : 8\n",
      " Maximum element of [1, 4, 45, 6, 10, -8] is : 45\n"
     ]
    }
   ],
   "source": [
    "# function to return maximum element using recursion\n",
    "def findMax(arr, n):\n",
    "    if (n == 1):\n",
    "        return arr[0]\n",
    "    return max(arr[n - 1], findMax(arr, n - 1))\n",
    "\n",
    "#Driver Code\n",
    "arr = [1, 4, 3, -5, -4, 8, 6]\n",
    "n = len(arr)\n",
    "print(\" Maximum element of\",arr, \"is :\", findMax(arr, n))\n",
    "\n",
    "arr = [1, 4, 45, 6, 10, -8]\n",
    "n = len(arr)\n",
    "print(\" Maximum element of\",arr, \"is :\", findMax(arr, n))\n",
    "\n"
   ]
  },
  {
   "cell_type": "markdown",
   "id": "b71148d2",
   "metadata": {},
   "source": [
    "\n",
    "💡 **Question 6**\n",
    "\n",
    "Given first term (a), common difference (d) and a integer N of the Arithmetic Progression series, the task is to find Nth term of the series.\n",
    "\n",
    "**Example 1:**\n",
    "\n",
    "Input : a = 2 d = 1 N = 5\n",
    "Output : 6\n",
    "The 5th term of the series is : 6\n",
    "\n",
    "**Example 2:**\n",
    "\n",
    "Input : a = 5 d = 2 N = 10\n",
    "Output : 23\n",
    "The 10th term of the series is : 23\n"
   ]
  },
  {
   "cell_type": "code",
   "execution_count": 31,
   "id": "2e185ab1",
   "metadata": {},
   "outputs": [
    {
     "name": "stdout",
     "output_type": "stream",
     "text": [
      "The  5 th term of the series is :  6\n",
      "The  10 th term of the series is :  23\n"
     ]
    }
   ],
   "source": [
    "# to find nth term of Arithmetic progression\n",
    " \n",
    "def Nth_of_AP(a, d, N) :\n",
    " \n",
    "    # using formula to find the\n",
    "    # Nth term t(n) = a(1) + (n-1)*d\n",
    "    return (a + (N - 1) * d)\n",
    "      \n",
    "# Driver code\n",
    "a = 2  # starting number\n",
    "d = 1  # Common difference\n",
    "N = 5  # N th term to be find\n",
    "print( \"The \", N ,\"th term of the series is : \",\n",
    "       Nth_of_AP(a, d, N))\n",
    "\n",
    "# Driver code\n",
    "a = 5  # starting number\n",
    "d = 2  # Common difference\n",
    "N = 10  # N th term to be find\n",
    "print( \"The \", N ,\"th term of the series is : \",\n",
    "       Nth_of_AP(a, d, N))"
   ]
  },
  {
   "cell_type": "markdown",
   "id": "53a436ec",
   "metadata": {},
   "source": [
    "\n",
    "💡 **Question 8**\n",
    "\n",
    "Given an array, find a product of all array elements.\n",
    "\n",
    "**Example 1:**\n",
    "\n",
    "Input  : arr[] = {1, 2, 3, 4, 5}\n",
    "Output : 120\n",
    "**Example 2:**\n",
    "\n",
    "Input  : arr[] = {1, 6, 3}\n",
    "Output : 18\n"
   ]
  },
  {
   "cell_type": "code",
   "execution_count": 32,
   "id": "e692269a",
   "metadata": {},
   "outputs": [
    {
     "name": "stdout",
     "output_type": "stream",
     "text": [
      "Array 1:\n",
      "1 2 3 4 5 \n",
      "Product of the array elements: 120\n",
      "Array 2:\n",
      "1 6 3 \n",
      "Product of the array elements: 18\n"
     ]
    }
   ],
   "source": [
    "def findProduct(arr, size):\n",
    "    result = 1\n",
    "    for i in range(size):\n",
    "        result = result * arr[i]\n",
    "    return result\n",
    "\n",
    "def printListElements(arr, size):\n",
    "    for i in range(size):\n",
    "        print(arr[i], end=\" \")\n",
    "    print()\n",
    "\n",
    "arr1 = [1, 2, 3, 4, 5]\n",
    "size1 = len(arr1)\n",
    "print(\"Array 1:\")\n",
    "printListElements(arr1, size1)\n",
    "print(\"Product of the array elements:\", findProduct(arr1, size1))\n",
    "\n",
    "arr2 = [1, 6, 3]\n",
    "size2 = len(arr2)\n",
    "print(\"Array 2:\")\n",
    "printListElements(arr2, size2)\n",
    "print(\"Product of the array elements:\", findProduct(arr2, size2))"
   ]
  },
  {
   "cell_type": "code",
   "execution_count": null,
   "id": "66573540",
   "metadata": {},
   "outputs": [],
   "source": []
  }
 ],
 "metadata": {
  "kernelspec": {
   "display_name": "Python 3 (ipykernel)",
   "language": "python",
   "name": "python3"
  },
  "language_info": {
   "codemirror_mode": {
    "name": "ipython",
    "version": 3
   },
   "file_extension": ".py",
   "mimetype": "text/x-python",
   "name": "python",
   "nbconvert_exporter": "python",
   "pygments_lexer": "ipython3",
   "version": "3.9.7"
  }
 },
 "nbformat": 4,
 "nbformat_minor": 5
}
