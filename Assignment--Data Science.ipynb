{
 "cells": [
  {
   "cell_type": "markdown",
   "id": "7e890e64",
   "metadata": {},
   "source": [
    "1. Write a Python program to reverse a string without using any built-in string reversal functions."
   ]
  },
  {
   "cell_type": "code",
   "execution_count": 1,
   "id": "35dc65d7",
   "metadata": {},
   "outputs": [
    {
     "name": "stdout",
     "output_type": "stream",
     "text": [
      "Reverse of the given string is yeDapeeD \n"
     ]
    }
   ],
   "source": [
    "string = \"DeepaDey\"\n",
    "str = \" \"\n",
    "for i in string:\n",
    "    str = i + str\n",
    "print(\"Reverse of the given string is\", str)"
   ]
  },
  {
   "cell_type": "markdown",
   "id": "de4051d4",
   "metadata": {},
   "source": [
    "2. Implement a function to check if a given string is a palindrome."
   ]
  },
  {
   "cell_type": "code",
   "execution_count": 2,
   "id": "72006ec9",
   "metadata": {},
   "outputs": [
    {
     "name": "stdout",
     "output_type": "stream",
     "text": [
      "no\n"
     ]
    }
   ],
   "source": [
    "def isPalindrome(s):\n",
    "    return s == s[::-1]\n",
    "s = \"DeepaDey\"\n",
    "ans = isPalindrome(s)\n",
    "\n",
    "if ans:\n",
    "    print(\"yes\")\n",
    "else:\n",
    "    print(\"no\")\n",
    "    \n",
    "    \n"
   ]
  },
  {
   "cell_type": "markdown",
   "id": "d6e47de9",
   "metadata": {},
   "source": [
    "3. Write a program to find the largest element in a given list."
   ]
  },
  {
   "cell_type": "code",
   "execution_count": 4,
   "id": "bf579e16",
   "metadata": {},
   "outputs": [
    {
     "name": "stdout",
     "output_type": "stream",
     "text": [
      "enter size of list4\n",
      "enter element of list3\n",
      "enter element of list5\n",
      "enter element of list9\n",
      "enter element of list8\n",
      "largest element in the given list [3, 5, 9, 8] is\n",
      "9\n"
     ]
    }
   ],
   "source": [
    "#largest element in the list\n",
    "def LargestElement(list):\n",
    "    large = max(list)\n",
    "    return large\n",
    "li = []\n",
    "n = int(input(\"enter size of list\"))\n",
    "for i in range(0,n):\n",
    "    e=int(input(\"enter element of list\"))\n",
    "    li.append(e)\n",
    "print(\"largest element in the given list\",li,\"is\")\n",
    "print(LargestElement(li))"
   ]
  },
  {
   "cell_type": "markdown",
   "id": "c1bc0cbe",
   "metadata": {},
   "source": [
    "4. Implement a function to count the occurrence of each element in a list.\n"
   ]
  },
  {
   "cell_type": "code",
   "execution_count": 5,
   "id": "00048a87",
   "metadata": {},
   "outputs": [
    {
     "name": "stdout",
     "output_type": "stream",
     "text": [
      "a has occurred 2 times\n"
     ]
    }
   ],
   "source": [
    "#count the occurrence of element in a list\n",
    "def countElement(sample_list, element):\n",
    "    return sample_list.count(element)\n",
    "\n",
    "sample_list = [\"bc\",\"a\", \"abc\",\"az\",\"bb\",\"aa\",\"a\"]\n",
    "element = \"a\"\n",
    "print('{} has occurred {} times'.format(element,countElement(sample_list, element)))"
   ]
  },
  {
   "cell_type": "markdown",
   "id": "5722f429",
   "metadata": {},
   "source": [
    "5. Write a Python program to find the second largest number in a list"
   ]
  },
  {
   "cell_type": "code",
   "execution_count": 6,
   "id": "ebafb442",
   "metadata": {},
   "outputs": [
    {
     "name": "stdout",
     "output_type": "stream",
     "text": [
      "enter number of elements in list:5\n",
      "enter element:3\n",
      "enter element:6\n",
      "enter element:8\n",
      "enter element:76\n",
      "enter element:5\n",
      "second largest element in the given list 8\n"
     ]
    }
   ],
   "source": [
    "# second largest number in a list\n",
    "list_val = []\n",
    "num_list = int(input(\"enter number of elements in list:\"))\n",
    "for i in range(1,num_list + 1):\n",
    "    element=int(input(\"enter element:\"))\n",
    "    list_val.append(element)\n",
    "#sorting the element in the list\n",
    "list_val.sort()\n",
    "print(\"second largest element in the given list\",list_val[-2])\n"
   ]
  },
  {
   "cell_type": "markdown",
   "id": "adfa91ac",
   "metadata": {},
   "source": [
    "6. Implement a function to remove duplicate elements from a list."
   ]
  },
  {
   "cell_type": "code",
   "execution_count": 7,
   "id": "73f2a82e",
   "metadata": {},
   "outputs": [
    {
     "name": "stdout",
     "output_type": "stream",
     "text": [
      "Original List:  [3, 4, 5, 5, 6, 7, 89, 7, 8, 8, 9, 2, 3, 5]\n",
      "List after removing duplicates elements:  [{2, 3, 4, 5, 6, 7, 8, 9, 89}]\n"
     ]
    }
   ],
   "source": [
    "list = [3,4,5,5,6,7,89,7,8,8,9,2,3,5]\n",
    "print(\"Original List: \", list)\n",
    "final_list=[set(list)]\n",
    "print(\"List after removing duplicates elements: \",final_list)"
   ]
  },
  {
   "cell_type": "markdown",
   "id": "14b7be30",
   "metadata": {},
   "source": [
    "7. Write a program to calculate the factorial of a given number.\n"
   ]
  },
  {
   "cell_type": "code",
   "execution_count": 8,
   "id": "94afd6df",
   "metadata": {},
   "outputs": [
    {
     "name": "stdout",
     "output_type": "stream",
     "text": [
      "enter a number:4\n",
      "The factorial of 4 is 24\n"
     ]
    }
   ],
   "source": [
    "# take the input from the user\n",
    "num = int(input(\"enter a number:\"))\n",
    "factorial = 1\n",
    "#check if the number is negative, positive or zero\n",
    "if num < 0:\n",
    "    print(\"factorial does not exist for negative number\")\n",
    "elif num == 0:\n",
    "    print(\"factorial of zero is 1\")\n",
    "else:\n",
    "    for i in range(1, num + 1):\n",
    "        factorial = factorial*i\n",
    "    print(\"The factorial of\", num, \"is\", factorial)"
   ]
  },
  {
   "cell_type": "markdown",
   "id": "1f8f0123",
   "metadata": {},
   "source": [
    "8. Implement a function to check if a given number is prime."
   ]
  },
  {
   "cell_type": "code",
   "execution_count": 9,
   "id": "3c31231f",
   "metadata": {},
   "outputs": [
    {
     "name": "stdout",
     "output_type": "stream",
     "text": [
      "6 is not a prime number\n"
     ]
    }
   ],
   "source": [
    "n = 6\n",
    "#check if the number is greater than 1\n",
    "if n > 1:\n",
    "    for i in range(2, int(n/2)+1):\n",
    "        if (n % i) == 0:\n",
    "            print(n, \"is not a prime number\")\n",
    "        break\n",
    "    else:\n",
    "        print(n, \"is a prime number\")\n",
    "#if the number is less than 1, its also not a prime number\n",
    "else:\n",
    "    print(n, \"is not a prime number\")"
   ]
  },
  {
   "cell_type": "markdown",
   "id": "7c4915bf",
   "metadata": {},
   "source": [
    "9. Write a Python program to sort a list of integers in ascending order."
   ]
  },
  {
   "cell_type": "code",
   "execution_count": 10,
   "id": "237daa3b",
   "metadata": {},
   "outputs": [
    {
     "name": "stdout",
     "output_type": "stream",
     "text": [
      "None\n",
      "[1, 2, 3, 3, 5, 5, 6, 6, 9]\n"
     ]
    }
   ],
   "source": [
    "#sorting numbers in Ascending Order\n",
    "numbers = [3,5,6,3,2,5,6,9,1]\n",
    "#sorting list of integers in ascending order\n",
    "print(numbers.sort())\n",
    "print(numbers)\n",
    "\n"
   ]
  },
  {
   "cell_type": "markdown",
   "id": "ae1974ed",
   "metadata": {},
   "source": [
    "10. Implement a function to find the sum of all numbers in a list."
   ]
  },
  {
   "cell_type": "code",
   "execution_count": 11,
   "id": "a1e5393a",
   "metadata": {},
   "outputs": [
    {
     "name": "stdout",
     "output_type": "stream",
     "text": [
      "the sum of all given numbers in a list 20\n"
     ]
    }
   ],
   "source": [
    "def sum(numbers):\n",
    "    total = 0\n",
    "    for x in numbers:\n",
    "        total += x\n",
    "    return total\n",
    "print(\"the sum of all given numbers in a list\",sum([2,3,5,6,4]))"
   ]
  },
  {
   "cell_type": "markdown",
   "id": "79f3f9ae",
   "metadata": {},
   "source": [
    "11. Write a program to find the common elements between two lists."
   ]
  },
  {
   "cell_type": "code",
   "execution_count": 12,
   "id": "7c424996",
   "metadata": {},
   "outputs": [
    {
     "name": "stdout",
     "output_type": "stream",
     "text": [
      "{1}\n"
     ]
    }
   ],
   "source": [
    "def common_member(a,b):\n",
    "    a_set = set(a)\n",
    "    b_set = set(b)\n",
    "    \n",
    "    if (a_set & b_set):\n",
    "        print(a_set & b_set)\n",
    "    else:\n",
    "        print(\"No common elements in two lists\")\n",
    "a = [3,5,6,2,1]\n",
    "b = [4,7,8,9,1]\n",
    "common_member(a,b)"
   ]
  },
  {
   "cell_type": "markdown",
   "id": "0d337adf",
   "metadata": {},
   "source": [
    "12. Implement a function to check if a given string is an anagram of another string"
   ]
  },
  {
   "cell_type": "markdown",
   "id": "e328f332",
   "metadata": {},
   "source": [
    "13. Write a Python program to generate all permutations of a given string."
   ]
  },
  {
   "cell_type": "code",
   "execution_count": 1,
   "id": "0768dbbd",
   "metadata": {},
   "outputs": [
    {
     "name": "stdout",
     "output_type": "stream",
     "text": [
      "ABC\n",
      "ACB\n",
      "BAC\n",
      "BCA\n",
      "CBA\n",
      "CAB\n"
     ]
    }
   ],
   "source": [
    "def toString(List):\n",
    "    return ''.join(List)\n",
    "\n",
    "def permute(a, l, r):\n",
    "    if l == r:\n",
    "        print(toString(a))\n",
    "    else:\n",
    "        for i in range(l, r + 1):\n",
    "            a[l], a[i] = a[i], a[l]\n",
    "            permute(a, l+1, r)\n",
    "            \n",
    "            a[l], a[i] = a[i], a[l]\n",
    "# Driver Code\n",
    "string = \"ABC\"\n",
    "n = len(string)\n",
    "a = list(string)\n",
    "permute(a, 0, n-1)"
   ]
  },
  {
   "cell_type": "markdown",
   "id": "d051275a",
   "metadata": {},
   "source": [
    "14. Implement a function to calculate the Fibonacci sequence up to a given number of terms.\n"
   ]
  },
  {
   "cell_type": "code",
   "execution_count": 14,
   "id": "e1165370",
   "metadata": {},
   "outputs": [
    {
     "name": "stdout",
     "output_type": "stream",
     "text": [
      "55\n"
     ]
    }
   ],
   "source": [
    "def fibonacci(n):\n",
    "    a = 0\n",
    "    b = 1\n",
    "    if n < 0:\n",
    "        print(\"Incorrect input\")\n",
    "    elif n == 0:\n",
    "        return a\n",
    "    elif n == 1:\n",
    "        return b\n",
    "    else:\n",
    "        for i in range(2, n+1):\n",
    "            c = a + b\n",
    "            a = b\n",
    "            b = c\n",
    "        return b\n",
    "print(fibonacci(10))\n",
    " "
   ]
  },
  {
   "cell_type": "markdown",
   "id": "02c271e3",
   "metadata": {},
   "source": [
    "15. Write a program to find the median of a list of numbers.\n"
   ]
  },
  {
   "cell_type": "code",
   "execution_count": 1,
   "id": "113bef28",
   "metadata": {},
   "outputs": [
    {
     "name": "stdout",
     "output_type": "stream",
     "text": [
      "Median of [3, 4, 5, 6, 7] :5.0\n"
     ]
    }
   ],
   "source": [
    "list = [4,5,3,6,7]\n",
    "list.sort()\n",
    "mid = len(list) // 2\n",
    "res = (list[mid] + list[mid]) / 2\n",
    "print(\"Median of \" + str(list),\":\" + str(res))"
   ]
  },
  {
   "cell_type": "markdown",
   "id": "02389b23",
   "metadata": {},
   "source": [
    "16. Implement a function to check if a given list is sorted in non-decreasing order."
   ]
  },
  {
   "cell_type": "markdown",
   "id": "929bbf28",
   "metadata": {},
   "source": [
    "17. Write a Python program to find the intersection of two lists"
   ]
  },
  {
   "cell_type": "code",
   "execution_count": 16,
   "id": "9b2195e2",
   "metadata": {},
   "outputs": [
    {
     "name": "stdout",
     "output_type": "stream",
     "text": [
      "[1, 3, 5, 7, 9]\n"
     ]
    }
   ],
   "source": [
    "def intersection(list1, list2):\n",
    "    list3 = [value for value in list1 if value in list2]\n",
    "    return list3\n",
    "\n",
    "list1 = [2,1,3,5,6,7,9]\n",
    "list2 =[9,4,5,3,7,1]\n",
    "print(intersection(list1, list2))"
   ]
  },
  {
   "cell_type": "markdown",
   "id": "6c0aedee",
   "metadata": {},
   "source": [
    "18. Implement a function to find the maximum subarray sum in a given list."
   ]
  },
  {
   "cell_type": "markdown",
   "id": "ab208bb5",
   "metadata": {},
   "source": [
    "19. Write a program to remove all vowels from a given string."
   ]
  },
  {
   "cell_type": "code",
   "execution_count": 17,
   "id": "9020bf48",
   "metadata": {},
   "outputs": [
    {
     "name": "stdout",
     "output_type": "stream",
     "text": [
      "Hppy Brthdy T M\n"
     ]
    }
   ],
   "source": [
    "def remove_vowel(string):\n",
    "    vowels = ['a','e','i','o','u']\n",
    "    result = [letter for letter in string if letter.lower() not in vowels]\n",
    "    result = ''.join(result)\n",
    "    print(result)\n",
    "    \n",
    "string = \"Happy Birthday To Me\"\n",
    "remove_vowel(string)"
   ]
  },
  {
   "cell_type": "markdown",
   "id": "fb42a5b5",
   "metadata": {},
   "source": [
    "20. Implement a function to reverse the order of words in a given sentence."
   ]
  },
  {
   "cell_type": "code",
   "execution_count": 18,
   "id": "40e32907",
   "metadata": {},
   "outputs": [
    {
     "name": "stdout",
     "output_type": "stream",
     "text": [
      "language programming python learning am i \n"
     ]
    }
   ],
   "source": [
    "s = \" i am learning python programming language\"\n",
    "words = s.split(' ')\n",
    "string = []\n",
    "for word in words:\n",
    "    string.insert(0, word)\n",
    "print(\" \".join(string))"
   ]
  },
  {
   "cell_type": "markdown",
   "id": "60b314c4",
   "metadata": {},
   "source": [
    "21. Write a Python program to check if two strings are anagrams of each other.\n"
   ]
  },
  {
   "cell_type": "code",
   "execution_count": 19,
   "id": "33f46e21",
   "metadata": {},
   "outputs": [
    {
     "name": "stdout",
     "output_type": "stream",
     "text": [
      "the strings are anagrams\n"
     ]
    }
   ],
   "source": [
    "def strings_aragrams(s1, s2):\n",
    "    if(sorted(s1) == sorted(s2)):\n",
    "        print(\"the strings are anagrams\")\n",
    "    else:\n",
    "        print(\"the strings are not anagrams\")\n",
    "s1=\"listen\"\n",
    "s2=\"silent\"\n",
    "strings_aragrams(s1, s2)"
   ]
  },
  {
   "cell_type": "markdown",
   "id": "b0f31c49",
   "metadata": {},
   "source": [
    "22. Implement a function to find the first non-repeating character in a string"
   ]
  },
  {
   "cell_type": "markdown",
   "id": "56aec88a",
   "metadata": {},
   "source": [
    "23. Write a program to find the prime factors of a given number"
   ]
  },
  {
   "cell_type": "code",
   "execution_count": 20,
   "id": "f319e7b4",
   "metadata": {},
   "outputs": [
    {
     "name": "stdout",
     "output_type": "stream",
     "text": [
      "3\n",
      "3\n",
      "5\n",
      "7\n"
     ]
    }
   ],
   "source": [
    "# Python program to print prime factors\n",
    " \n",
    "import math\n",
    " \n",
    "# A function to print all prime factors of\n",
    "# a given number n\n",
    "def primeFactors(n):\n",
    "     \n",
    "    # Print the number of two's that divide n\n",
    "    while n % 2 == 0:\n",
    "        print (2)\n",
    "        n = n / 2\n",
    "         \n",
    "    # n must be odd at this point\n",
    "    # so a skip of 2 ( i = i + 2) can be used\n",
    "    for i in range(3,int(math.sqrt(n))+1,2):\n",
    "         \n",
    "        # while i divides n , print i and divide n\n",
    "        while n % i== 0:\n",
    "            print (i)\n",
    "            n = n / i\n",
    "             \n",
    "    # Condition if n is a prime\n",
    "    # number greater than 2\n",
    "    if n > 2:\n",
    "        print(n) \n",
    "         \n",
    "# Driver Program to test above function\n",
    " \n",
    "n = 315\n",
    "primeFactors(n)"
   ]
  },
  {
   "cell_type": "markdown",
   "id": "157b72bd",
   "metadata": {},
   "source": [
    "24. Implement a function to check if a given number is a power of two"
   ]
  },
  {
   "cell_type": "code",
   "execution_count": 21,
   "id": "71d5c1cc",
   "metadata": {},
   "outputs": [
    {
     "name": "stdout",
     "output_type": "stream",
     "text": [
      "True\n",
      "True\n"
     ]
    }
   ],
   "source": [
    "def powerof2(n):\n",
    "    if n == 1:\n",
    "        return True #'1' is the only odd number which is a power of 2(2^0)\n",
    "    elif n % 2 != 0 or n == 0:\n",
    "        return False\n",
    "    else:\n",
    "        return powerof2(n/2)\n",
    "\n",
    "print(powerof2(32))\n",
    "print(powerof2(4))\n",
    "\n",
    "    "
   ]
  },
  {
   "cell_type": "markdown",
   "id": "17754e6d",
   "metadata": {},
   "source": [
    "25. Write a Python program to merge two sorted lists into a single sorted list.\n"
   ]
  },
  {
   "cell_type": "code",
   "execution_count": 1,
   "id": "358bf806",
   "metadata": {},
   "outputs": [
    {
     "name": "stdout",
     "output_type": "stream",
     "text": [
      "The original list 1 is : [1, 3, 6, 8, 9]\n",
      "The original list 2 is : [2, 4, 7, 11, 15]\n",
      "The original list 2 is : [1, 2, 3, 4, 6, 7, 8, 9, 11, 15]\n"
     ]
    }
   ],
   "source": [
    "list1 = [1,3,6,8,9]\n",
    "list2 = [2,4,7,11,15]\n",
    "print (\"The original list 1 is : \" + str(list1))\n",
    "print (\"The original list 2 is : \" + str(list2))\n",
    "res = sorted(list1 + list2)\n",
    "\n",
    "print (\"The original list 2 is : \" + str(res))"
   ]
  },
  {
   "cell_type": "markdown",
   "id": "7b7bb3c8",
   "metadata": {},
   "source": [
    "26. Implement a function to find the mode of a list of numbers.\n"
   ]
  },
  {
   "cell_type": "markdown",
   "id": "52fee453",
   "metadata": {},
   "source": [
    "27. Write a program to find the greatest common divisor (GCD) of two numbers.\n"
   ]
  },
  {
   "cell_type": "code",
   "execution_count": 24,
   "id": "7d13e789",
   "metadata": {},
   "outputs": [
    {
     "name": "stdout",
     "output_type": "stream",
     "text": [
      "GCD of 12 and 16 is 4\n"
     ]
    }
   ],
   "source": [
    "def GCD(a,b):\n",
    "    result = min(a, b)\n",
    "    while result:\n",
    "        if a % result == 0 and b % result == 0:\n",
    "            break\n",
    "        result -= 1\n",
    "    return result\n",
    "a = 12\n",
    "b = 16\n",
    "print(f\"GCD of {a} and {b} is {GCD(a, b)}\")\n",
    "\n",
    "\n",
    "\n"
   ]
  },
  {
   "cell_type": "markdown",
   "id": "98dddcdf",
   "metadata": {},
   "source": [
    "28. Implement a function to calculate the square root of a given number."
   ]
  },
  {
   "cell_type": "code",
   "execution_count": 25,
   "id": "d35cd790",
   "metadata": {},
   "outputs": [
    {
     "name": "stdout",
     "output_type": "stream",
     "text": [
      "enter element of list5\n",
      "2\n"
     ]
    }
   ],
   "source": [
    "def squareroot(n):\n",
    "    sqrt = n**0.5\n",
    "    result = int(sqrt)\n",
    "    return result\n",
    "n=int(input(\"enter element of list\"))\n",
    "print(squareroot(n))\n"
   ]
  },
  {
   "cell_type": "markdown",
   "id": "c82b3597",
   "metadata": {},
   "source": [
    "29. Write a Python program to check if a given string is a valid palindrome ignoring non-alphanumeric characters.\n"
   ]
  },
  {
   "cell_type": "markdown",
   "id": "328a8598",
   "metadata": {},
   "source": [
    "30. Implement a function to find the minimum element in a rotated sorted list."
   ]
  },
  {
   "cell_type": "markdown",
   "id": "1b234ce2",
   "metadata": {},
   "source": [
    "31. Write a program to find the sum of all even numbers in a list."
   ]
  },
  {
   "cell_type": "markdown",
   "id": "bd88e53f",
   "metadata": {},
   "source": [
    "32. Implement a function to calculate the power of a number using recursion"
   ]
  },
  {
   "cell_type": "code",
   "execution_count": 26,
   "id": "06993af5",
   "metadata": {},
   "outputs": [
    {
     "name": "stdout",
     "output_type": "stream",
     "text": [
      "16\n"
     ]
    }
   ],
   "source": [
    "def power(N,P):\n",
    "    if P == 0:\n",
    "        return 1\n",
    "    else:\n",
    "        return(N*power(N, P-1))\n",
    "    \n",
    "N = 4\n",
    "P = 2\n",
    "print(power(N,P))"
   ]
  },
  {
   "cell_type": "markdown",
   "id": "039c6c59",
   "metadata": {},
   "source": [
    "33. Write a Python program to remove duplicates from a list while preserving the order.\n"
   ]
  },
  {
   "cell_type": "code",
   "execution_count": 27,
   "id": "95af55ee",
   "metadata": {},
   "outputs": [
    {
     "name": "stdout",
     "output_type": "stream",
     "text": [
      "[2, 4, 5, 6, 7, 8, 9]\n"
     ]
    }
   ],
   "source": [
    "def Remove(duplicate):\n",
    "    final_list = []\n",
    "    for num in duplicate:\n",
    "        if num not in final_list:\n",
    "            final_list.append(num)\n",
    "    return final_list\n",
    "\n",
    "duplicate = [2,4,5,6,7,2,8,9,4]\n",
    "print(Remove(duplicate))"
   ]
  },
  {
   "cell_type": "markdown",
   "id": "981b1e27",
   "metadata": {},
   "source": [
    "34. Implement a function to find the longest common prefix among a list of strings."
   ]
  },
  {
   "cell_type": "code",
   "execution_count": 28,
   "id": "0759e4d7",
   "metadata": {},
   "outputs": [
    {
     "name": "stdout",
     "output_type": "stream",
     "text": [
      "Longest common prefix: i\n",
      "Longest common prefix: im\n"
     ]
    }
   ],
   "source": [
    "arr = [\"import\", \"important\", \"image\"]\n",
    "# the longest common prefix of an empty array is \"\".\n",
    "if not arr:\n",
    "    print(\"Longest common prefix:\", \"\")\n",
    "# The longest common prefix of an array containing \n",
    "# only one element is that element itself.\n",
    "elif len(arr) == 1:\n",
    "    print(\"Longest common prefix:\", arr[0])\n",
    "else:\n",
    "  # Sort the array\n",
    "  arr.sort()\n",
    "  result = \"\"\n",
    "  # Compare the first and the last string character by character.\n",
    "for i in range(len(arr[0])):\n",
    "#  If the characters match, append the character to the result.\n",
    "    if arr[0][i] == arr[-1][i]:\n",
    "          result += arr[0][i]\n",
    "      # Else, stop the comparison\n",
    "    else:\n",
    "        break\n",
    "    print(\"Longest common prefix:\", result)\n"
   ]
  },
  {
   "cell_type": "markdown",
   "id": "e5e83b86",
   "metadata": {},
   "source": [
    "35. Write a program to check if a given number is a perfect square."
   ]
  },
  {
   "cell_type": "code",
   "execution_count": 29,
   "id": "95a90608",
   "metadata": {},
   "outputs": [
    {
     "name": "stdout",
     "output_type": "stream",
     "text": [
      "enter element of list:5\n",
      "No\n"
     ]
    }
   ],
   "source": [
    "n=int(input(\"enter element of list:\"))\n",
    "for i in range(n+1):\n",
    "    if i**2 == n:\n",
    "        print(\"Yes\")\n",
    "        break\n",
    "else:\n",
    "    print(\"No\")"
   ]
  },
  {
   "cell_type": "markdown",
   "id": "405e2501",
   "metadata": {},
   "source": [
    "36. Implement a function to calculate the product of all elements in a list."
   ]
  },
  {
   "cell_type": "code",
   "execution_count": 30,
   "id": "9da63940",
   "metadata": {},
   "outputs": [
    {
     "name": "stdout",
     "output_type": "stream",
     "text": [
      "0\n"
     ]
    }
   ],
   "source": [
    "def productList(List):\n",
    "    result = 1\n",
    "    for x in List:\n",
    "        result = result * x\n",
    "    return result\n",
    "List = [3,5,8,10,0]\n",
    "print(productList(List))"
   ]
  },
  {
   "cell_type": "markdown",
   "id": "ec73be8d",
   "metadata": {},
   "source": [
    "37. Write a Python program to reverse the order of words in a sentence while preserving the word order.\n"
   ]
  },
  {
   "cell_type": "markdown",
   "id": "ae13371e",
   "metadata": {},
   "source": [
    "38. Implement a function to find the missing number in a given list of consecutive numbers.\n"
   ]
  },
  {
   "cell_type": "markdown",
   "id": "d2136b76",
   "metadata": {},
   "source": [
    "39. Write a program to find the sum of digits of a given number.\n"
   ]
  },
  {
   "cell_type": "code",
   "execution_count": 31,
   "id": "429611a4",
   "metadata": {},
   "outputs": [
    {
     "name": "stdout",
     "output_type": "stream",
     "text": [
      "22\n"
     ]
    }
   ],
   "source": [
    "def getSum(n):\n",
    "    sum = 0\n",
    "    for i in n:\n",
    "        sum = sum + int(i)\n",
    "    return sum\n",
    "\n",
    "n = \"1786\"\n",
    "print(getSum(n))\n"
   ]
  },
  {
   "cell_type": "markdown",
   "id": "60963de1",
   "metadata": {},
   "source": [
    "40. Implement a function to check if a given string is a valid palindrome considering case sensitivity.\n"
   ]
  },
  {
   "cell_type": "markdown",
   "id": "5b864bc1",
   "metadata": {},
   "source": [
    "41. Write a Python program to find the smallest missing positive integer in a list.\n"
   ]
  },
  {
   "cell_type": "code",
   "execution_count": 32,
   "id": "570e42eb",
   "metadata": {},
   "outputs": [
    {
     "name": "stdout",
     "output_type": "stream",
     "text": [
      "The smallest missing positive integer in a list 5\n"
     ]
    }
   ],
   "source": [
    "def findSmallestMissing(nums):\n",
    "    distinct = {*nums}\n",
    "# return first smallest missing positive integer from the set\n",
    "    index = 1\n",
    "    while True:\n",
    "        if index not in distinct:\n",
    "            return index\n",
    "        index +=1\n",
    "    \n",
    "nums = [-1,-3,0,3,2,4,1]\n",
    "print(\"The smallest missing positive integer in a list\",findSmallestMissing(nums))\n",
    "    "
   ]
  },
  {
   "cell_type": "markdown",
   "id": "02eaebcf",
   "metadata": {},
   "source": [
    "42. Implement a function to find the longest palindrome substring in a given string."
   ]
  },
  {
   "cell_type": "markdown",
   "id": "4426d4e7",
   "metadata": {},
   "source": [
    "43. Write a program to find the number of occurrences of a given element in a list"
   ]
  },
  {
   "cell_type": "code",
   "execution_count": 33,
   "id": "1ea5ff4c",
   "metadata": {},
   "outputs": [
    {
     "name": "stdout",
     "output_type": "stream",
     "text": [
      "4 has occurred 2 times\n"
     ]
    }
   ],
   "source": [
    "def countnum(list, num):\n",
    "    return list.count(num)\n",
    "list = [4,7,9,1,2,4,8]\n",
    "\n",
    "num = 4\n",
    "print('{} has occurred {} times'.format(num,countnum(list, num)))"
   ]
  },
  {
   "cell_type": "markdown",
   "id": "c8917b9d",
   "metadata": {},
   "source": [
    "44. Implement a function to check if a given number is a perfect number."
   ]
  },
  {
   "cell_type": "code",
   "execution_count": 34,
   "id": "8a45ead9",
   "metadata": {},
   "outputs": [
    {
     "name": "stdout",
     "output_type": "stream",
     "text": [
      "Enter any number: 4\n",
      "The number is not a Perfect number!\n"
     ]
    }
   ],
   "source": [
    "n = int(input(\"Enter any number: \"))\n",
    "sum = 0\n",
    "for i in range(1, n):\n",
    "    if(n % i == 0):\n",
    "        sum = sum + i\n",
    "if (sum == n):\n",
    "    print(\"The number is a Perfect number!\")\n",
    "else:\n",
    "    print(\"The number is not a Perfect number!\")"
   ]
  },
  {
   "cell_type": "markdown",
   "id": "7d8268c7",
   "metadata": {},
   "source": [
    "45. Write a Python program to remove all duplicates from a string.\n"
   ]
  },
  {
   "cell_type": "code",
   "execution_count": 35,
   "id": "a2d565d7",
   "metadata": {},
   "outputs": [
    {
     "name": "stdout",
     "output_type": "stream",
     "text": [
      "{40, 10, 80, 50, 20, 60, 30}\n"
     ]
    }
   ],
   "source": [
    "a = [10,20,30,20,10,50,60,40,80,50,40]\n",
    "\n",
    "dup_items = set()\n",
    "uniq_items = []\n",
    "for x in a:\n",
    "    if x not in dup_items:\n",
    "        uniq_items.append(x)\n",
    "        dup_items.add(x)\n",
    "\n",
    "print(dup_items)"
   ]
  },
  {
   "cell_type": "markdown",
   "id": "a9a0f464",
   "metadata": {},
   "source": [
    "46. Implement a function to find the first missing positive\n",
    "\n"
   ]
  },
  {
   "cell_type": "code",
   "execution_count": 36,
   "id": "9adebc04",
   "metadata": {},
   "outputs": [
    {
     "name": "stdout",
     "output_type": "stream",
     "text": [
      "The smallest missing positive integer in a list 5\n"
     ]
    }
   ],
   "source": [
    "def findSmallestMissing(nums):\n",
    "    distinct = {*nums}\n",
    "# return first smallest missing positive integer from the set\n",
    "    index = 1\n",
    "    while True:\n",
    "        if index not in distinct:\n",
    "            return index\n",
    "        index +=1\n",
    "    \n",
    "nums = [-1,-3,0,3,2,4,1]\n",
    "print(\"The smallest missing positive integer in a list\",findSmallestMissing(nums))\n",
    "    "
   ]
  },
  {
   "cell_type": "code",
   "execution_count": null,
   "id": "c5218f8d",
   "metadata": {},
   "outputs": [],
   "source": []
  },
  {
   "cell_type": "code",
   "execution_count": null,
   "id": "d65887a3",
   "metadata": {},
   "outputs": [],
   "source": []
  }
 ],
 "metadata": {
  "kernelspec": {
   "display_name": "Python 3 (ipykernel)",
   "language": "python",
   "name": "python3"
  },
  "language_info": {
   "codemirror_mode": {
    "name": "ipython",
    "version": 3
   },
   "file_extension": ".py",
   "mimetype": "text/x-python",
   "name": "python",
   "nbconvert_exporter": "python",
   "pygments_lexer": "ipython3",
   "version": "3.9.7"
  }
 },
 "nbformat": 4,
 "nbformat_minor": 5
}
