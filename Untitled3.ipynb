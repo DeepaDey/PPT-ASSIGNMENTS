{
 "cells": [
  {
   "cell_type": "markdown",
   "id": "b53218da",
   "metadata": {},
   "source": [
    "Write a function called ‘calculate_mean’ that takes a list of numbers as input and returns the mean (average) of the numbers. The function should calculate the mean using the sum of the numbers divided by the total count.\n",
    "Example:\n",
    "\n",
    "def calculate_mean(numbers): total = sum(numbers) count = len(numbers) mean = total / count return mean\n",
    "\n",
    "data = [10, 15, 20, 25, 30] mean_value = calculate_mean(data) print(\"Mean:\", mean_value)\n",
    "\n",
    "Output: Mean: 20.0"
   ]
  },
  {
   "cell_type": "code",
   "execution_count": 1,
   "id": "2b160b3e",
   "metadata": {},
   "outputs": [
    {
     "name": "stdout",
     "output_type": "stream",
     "text": [
      "The mean is 20.0\n"
     ]
    }
   ],
   "source": [
    "def calculate_mean(num):\n",
    "    sum_num = 0\n",
    "    for t in num:\n",
    "        sum_num = sum_num + t\n",
    "    \n",
    "    mean = sum_num / len(num)\n",
    "    return mean\n",
    "        \n",
    "data = [10, 15, 20, 25, 30]\n",
    "print(\"The mean is\", calculate_mean([10, 15, 20, 25, 30]) )"
   ]
  },
  {
   "cell_type": "code",
   "execution_count": null,
   "id": "19e02093",
   "metadata": {},
   "outputs": [],
   "source": []
  }
 ],
 "metadata": {
  "kernelspec": {
   "display_name": "Python 3 (ipykernel)",
   "language": "python",
   "name": "python3"
  },
  "language_info": {
   "codemirror_mode": {
    "name": "ipython",
    "version": 3
   },
   "file_extension": ".py",
   "mimetype": "text/x-python",
   "name": "python",
   "nbconvert_exporter": "python",
   "pygments_lexer": "ipython3",
   "version": "3.9.7"
  }
 },
 "nbformat": 4,
 "nbformat_minor": 5
}
